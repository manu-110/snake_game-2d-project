{
 "cells": [
  {
   "cell_type": "code",
   "execution_count": null,
   "id": "75b94ed0-3c93-45c9-84f6-4764b0d84691",
   "metadata": {},
   "outputs": [
    {
     "name": "stdout",
     "output_type": "stream",
     "text": [
      " *  🍇  *   *   *   *   *   *   *   *  \n",
      " *   *   *   *   *   *   *   *   *   *  \n",
      " *   *   *   *   *   *   *   *   *   *  \n",
      " *   *   *   *   *   *   *   *   *   *  \n",
      " *   *   *   *   *   *   *   *   *   *  \n",
      " *   *   *   *   *  🐍  *   *   *   *  \n",
      " *   *   *   *   *   *   *   *   *   *  \n",
      " *   *   *   *   *   *   *   *   *   *  \n",
      " *   *   *   *   *   *   *   *   *   *  \n",
      " *   *   *   *   *   *   *   *   *   *  \n",
      "\n",
      "score: 0\n"
     ]
    },
    {
     "name": "stdin",
     "output_type": "stream",
     "text": [
      "enter direction (up/down/left/right): w\n"
     ]
    },
    {
     "name": "stdout",
     "output_type": "stream",
     "text": [
      " *  🍇  *   *   *   *   *   *   *   *  \n",
      " *   *   *   *   *   *   *   *   *   *  \n",
      " *   *   *   *   *   *   *   *   *   *  \n",
      " *   *   *   *   *   *   *   *   *   *  \n",
      " *   *   *   *   *   *   *   *   *   *  \n",
      " *   *   *   *   *   *   *   *   *   *  \n",
      " *   *   *   *   *  🐍  *   *   *   *  \n",
      " *   *   *   *   *   *   *   *   *   *  \n",
      " *   *   *   *   *   *   *   *   *   *  \n",
      " *   *   *   *   *   *   *   *   *   *  \n",
      "\n",
      "score: 0\n"
     ]
    },
    {
     "name": "stdin",
     "output_type": "stream",
     "text": [
      "enter direction (up/down/left/right): s\n"
     ]
    },
    {
     "name": "stdout",
     "output_type": "stream",
     "text": [
      " *  🍇  *   *   *   *   *   *   *   *  \n",
      " *   *   *   *   *   *   *   *   *   *  \n",
      " *   *   *   *   *   *   *   *   *   *  \n",
      " *   *   *   *   *   *   *   *   *   *  \n",
      " *   *   *   *   *   *   *   *   *   *  \n",
      " *   *   *   *   *  🐍  *   *   *   *  \n",
      " *   *   *   *   *   *   *   *   *   *  \n",
      " *   *   *   *   *   *   *   *   *   *  \n",
      " *   *   *   *   *   *   *   *   *   *  \n",
      " *   *   *   *   *   *   *   *   *   *  \n",
      "\n",
      "score: 0\n"
     ]
    },
    {
     "name": "stdin",
     "output_type": "stream",
     "text": [
      "enter direction (up/down/left/right): s\n"
     ]
    },
    {
     "name": "stdout",
     "output_type": "stream",
     "text": [
      " *  🍇  *   *   *   *   *   *   *   *  \n",
      " *   *   *   *   *   *   *   *   *   *  \n",
      " *   *   *   *   *   *   *   *   *   *  \n",
      " *   *   *   *   *   *   *   *   *   *  \n",
      " *   *   *   *   *  🐍  *   *   *   *  \n",
      " *   *   *   *   *   *   *   *   *   *  \n",
      " *   *   *   *   *   *   *   *   *   *  \n",
      " *   *   *   *   *   *   *   *   *   *  \n",
      " *   *   *   *   *   *   *   *   *   *  \n",
      " *   *   *   *   *   *   *   *   *   *  \n",
      "\n",
      "score: 0\n"
     ]
    },
    {
     "name": "stdin",
     "output_type": "stream",
     "text": [
      "enter direction (up/down/left/right): s\n"
     ]
    },
    {
     "name": "stdout",
     "output_type": "stream",
     "text": [
      " *  🍇  *   *   *   *   *   *   *   *  \n",
      " *   *   *   *   *   *   *   *   *   *  \n",
      " *   *   *   *   *   *   *   *   *   *  \n",
      " *   *   *   *   *  🐍  *   *   *   *  \n",
      " *   *   *   *   *   *   *   *   *   *  \n",
      " *   *   *   *   *   *   *   *   *   *  \n",
      " *   *   *   *   *   *   *   *   *   *  \n",
      " *   *   *   *   *   *   *   *   *   *  \n",
      " *   *   *   *   *   *   *   *   *   *  \n",
      " *   *   *   *   *   *   *   *   *   *  \n",
      "\n",
      "score: 0\n"
     ]
    },
    {
     "name": "stdin",
     "output_type": "stream",
     "text": [
      "enter direction (up/down/left/right): s\n"
     ]
    },
    {
     "name": "stdout",
     "output_type": "stream",
     "text": [
      " *  🍇  *   *   *   *   *   *   *   *  \n",
      " *   *   *   *   *   *   *   *   *   *  \n",
      " *   *   *   *   *  🐍  *   *   *   *  \n",
      " *   *   *   *   *   *   *   *   *   *  \n",
      " *   *   *   *   *   *   *   *   *   *  \n",
      " *   *   *   *   *   *   *   *   *   *  \n",
      " *   *   *   *   *   *   *   *   *   *  \n",
      " *   *   *   *   *   *   *   *   *   *  \n",
      " *   *   *   *   *   *   *   *   *   *  \n",
      " *   *   *   *   *   *   *   *   *   *  \n",
      "\n",
      "score: 0\n"
     ]
    },
    {
     "name": "stdin",
     "output_type": "stream",
     "text": [
      "enter direction (up/down/left/right): s\n"
     ]
    },
    {
     "name": "stdout",
     "output_type": "stream",
     "text": [
      " *  🍇  *   *   *   *   *   *   *   *  \n",
      " *   *   *   *   *  🐍  *   *   *   *  \n",
      " *   *   *   *   *   *   *   *   *   *  \n",
      " *   *   *   *   *   *   *   *   *   *  \n",
      " *   *   *   *   *   *   *   *   *   *  \n",
      " *   *   *   *   *   *   *   *   *   *  \n",
      " *   *   *   *   *   *   *   *   *   *  \n",
      " *   *   *   *   *   *   *   *   *   *  \n",
      " *   *   *   *   *   *   *   *   *   *  \n",
      " *   *   *   *   *   *   *   *   *   *  \n",
      "\n",
      "score: 0\n"
     ]
    },
    {
     "name": "stdin",
     "output_type": "stream",
     "text": [
      "enter direction (up/down/left/right): a\n"
     ]
    },
    {
     "name": "stdout",
     "output_type": "stream",
     "text": [
      " *  🍇  *   *   *   *   *   *   *   *  \n",
      " *   *   *   *  🐍  *   *   *   *   *  \n",
      " *   *   *   *   *   *   *   *   *   *  \n",
      " *   *   *   *   *   *   *   *   *   *  \n",
      " *   *   *   *   *   *   *   *   *   *  \n",
      " *   *   *   *   *   *   *   *   *   *  \n",
      " *   *   *   *   *   *   *   *   *   *  \n",
      " *   *   *   *   *   *   *   *   *   *  \n",
      " *   *   *   *   *   *   *   *   *   *  \n",
      " *   *   *   *   *   *   *   *   *   *  \n",
      "\n",
      "score: 0\n"
     ]
    },
    {
     "name": "stdin",
     "output_type": "stream",
     "text": [
      "enter direction (up/down/left/right): a\n"
     ]
    },
    {
     "name": "stdout",
     "output_type": "stream",
     "text": [
      " *  🍇  *   *   *   *   *   *   *   *  \n",
      " *   *   *  🐍  *   *   *   *   *   *  \n",
      " *   *   *   *   *   *   *   *   *   *  \n",
      " *   *   *   *   *   *   *   *   *   *  \n",
      " *   *   *   *   *   *   *   *   *   *  \n",
      " *   *   *   *   *   *   *   *   *   *  \n",
      " *   *   *   *   *   *   *   *   *   *  \n",
      " *   *   *   *   *   *   *   *   *   *  \n",
      " *   *   *   *   *   *   *   *   *   *  \n",
      " *   *   *   *   *   *   *   *   *   *  \n",
      "\n",
      "score: 0\n"
     ]
    },
    {
     "name": "stdin",
     "output_type": "stream",
     "text": [
      "enter direction (up/down/left/right): a\n"
     ]
    },
    {
     "name": "stdout",
     "output_type": "stream",
     "text": [
      " *  🍇  *   *   *   *   *   *   *   *  \n",
      " *   *  🐍  *   *   *   *   *   *   *  \n",
      " *   *   *   *   *   *   *   *   *   *  \n",
      " *   *   *   *   *   *   *   *   *   *  \n",
      " *   *   *   *   *   *   *   *   *   *  \n",
      " *   *   *   *   *   *   *   *   *   *  \n",
      " *   *   *   *   *   *   *   *   *   *  \n",
      " *   *   *   *   *   *   *   *   *   *  \n",
      " *   *   *   *   *   *   *   *   *   *  \n",
      " *   *   *   *   *   *   *   *   *   *  \n",
      "\n",
      "score: 0\n"
     ]
    },
    {
     "name": "stdin",
     "output_type": "stream",
     "text": [
      "enter direction (up/down/left/right): d\n"
     ]
    },
    {
     "name": "stdout",
     "output_type": "stream",
     "text": [
      " *  🍇  *   *   *   *   *   *   *   *  \n",
      " *   *   *  🐍  *   *   *   *   *   *  \n",
      " *   *   *   *   *   *   *   *   *   *  \n",
      " *   *   *   *   *   *   *   *   *   *  \n",
      " *   *   *   *   *   *   *   *   *   *  \n",
      " *   *   *   *   *   *   *   *   *   *  \n",
      " *   *   *   *   *   *   *   *   *   *  \n",
      " *   *   *   *   *   *   *   *   *   *  \n",
      " *   *   *   *   *   *   *   *   *   *  \n",
      " *   *   *   *   *   *   *   *   *   *  \n",
      "\n",
      "score: 0\n"
     ]
    },
    {
     "name": "stdin",
     "output_type": "stream",
     "text": [
      "enter direction (up/down/left/right): a\n"
     ]
    },
    {
     "name": "stdout",
     "output_type": "stream",
     "text": [
      " *  🍇  *   *   *   *   *   *   *   *  \n",
      " *   *  🐍  *   *   *   *   *   *   *  \n",
      " *   *   *   *   *   *   *   *   *   *  \n",
      " *   *   *   *   *   *   *   *   *   *  \n",
      " *   *   *   *   *   *   *   *   *   *  \n",
      " *   *   *   *   *   *   *   *   *   *  \n",
      " *   *   *   *   *   *   *   *   *   *  \n",
      " *   *   *   *   *   *   *   *   *   *  \n",
      " *   *   *   *   *   *   *   *   *   *  \n",
      " *   *   *   *   *   *   *   *   *   *  \n",
      "\n",
      "score: 0\n"
     ]
    }
   ],
   "source": [
    "import random\n",
    "width=10\n",
    "height=10\n",
    "def print_board(snake,food):\n",
    "    for y in range(height):\n",
    "        for x in range(width):\n",
    "            if [x,y]==food:\n",
    "                print('🍇',end=' ')\n",
    "            elif [x,y] in snake:\n",
    "                print('🐍',end=' ')\n",
    "            else:\n",
    "                print(' * ',end=' ')\n",
    "        print()\n",
    "    print()\n",
    "def move_snake(snake,direction):\n",
    "    head=snake[-1]\n",
    "    if direction=='w':\n",
    "        new_head=[head[0],head[1]+1]\n",
    "    elif direction=='s':\n",
    "        new_head=[head[0],head[1]-1]\n",
    "    elif direction== 'a':\n",
    "        new_head=[head[0]-1,head[1]]\n",
    "    elif direction=='d':\n",
    "        new_head=[head[0]+1,head[1]]\n",
    "    else:\n",
    "        print(\"invalid direction,use left/right/down/up.\")\n",
    "        return snake,False\n",
    "# wall colide conditions\n",
    "    if new_head[0]<0 or new_head[0]>=width or new_head[1]<0 or new_head[1]>=height:\n",
    "        return snake,'wall'\n",
    "# self colide conditions\n",
    "    if new_head in snake:\n",
    "        return snake,'self'\n",
    "    snake.append(new_head)\n",
    "    return snake,new_head\n",
    "def place_food(snake):\n",
    "    while True:\n",
    "        x=random.randint(0,width-1)\n",
    "        y=random.randint(0,height-1)\n",
    "        if [x,y] not in snake:\n",
    "            return[x,y]\n",
    "def snake_game():\n",
    "    snake=[[5,5]]\n",
    "    food=place_food(snake)\n",
    "    score=0\n",
    "    while True:\n",
    "        print_board(snake,food)\n",
    "        print(\"score:\",score)\n",
    "        direction=input(\"enter direction (up/down/left/right):\")\n",
    "        snake,result=move_snake(snake,direction)\n",
    "        if result=='wall':\n",
    "            print(\"you hit the wall, Game Over!!!\")\n",
    "        elif result=='self':\n",
    "            print(\"you hit yourself...Game Over!!!\")\n",
    "            break\n",
    "        elif result==food:\n",
    "            score+=1\n",
    "            food = place_food(snake)\n",
    "        else:\n",
    "            snake.pop(0)\n",
    "    print(\"Final score:\",score)\n",
    "snake_game()"
   ]
  },
  {
   "cell_type": "code",
   "execution_count": null,
   "id": "45eb1d96-0beb-40e3-b68f-7ddbd7eb11bf",
   "metadata": {},
   "outputs": [],
   "source": []
  }
 ],
 "metadata": {
  "kernelspec": {
   "display_name": "Python 3 (ipykernel)",
   "language": "python",
   "name": "python3"
  },
  "language_info": {
   "codemirror_mode": {
    "name": "ipython",
    "version": 3
   },
   "file_extension": ".py",
   "mimetype": "text/x-python",
   "name": "python",
   "nbconvert_exporter": "python",
   "pygments_lexer": "ipython3",
   "version": "3.12.7"
  }
 },
 "nbformat": 4,
 "nbformat_minor": 5
}
